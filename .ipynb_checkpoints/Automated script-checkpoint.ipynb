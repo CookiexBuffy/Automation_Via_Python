{
 "cells": [
  {
   "cell_type": "code",
   "execution_count": 3,
   "id": "de4ca7f2",
   "metadata": {},
   "outputs": [],
   "source": [
    "from selenium import webdriver\n",
    "\n",
    "browser = webdriver.Firefox()\n",
    "browser.get('http://selenium.dev/')"
   ]
  },
  {
   "cell_type": "code",
   "execution_count": 4,
   "id": "60a38311",
   "metadata": {},
   "outputs": [
    {
     "name": "stdout",
     "output_type": "stream",
     "text": [
      "Please start speaking.\n",
      "Recording finished. Recognizing...\n",
      "You: open Firefox open Firefox\n",
      "Firefox opened successfully!\n"
     ]
    }
   ],
   "source": [
    "import speech_recognition as sr\n",
    "import pyttsx3\n",
    "from selenium import webdriver\n",
    "\n",
    "engine = pyttsx3.init()\n",
    "\n",
    "def recognize_and_open_firefox():\n",
    "    r = sr.Recognizer()\n",
    "\n",
    "    with sr.Microphone() as source:\n",
    "        print(\"Please start speaking.\")\n",
    "        audio_text = r.listen(source)\n",
    "        print(\"Recording finished. Recognizing...\")\n",
    "\n",
    "        try:\n",
    "\n",
    "            recognized_text = r.recognize_google(audio_text)\n",
    "            print(\"You: \" + recognized_text)\n",
    "\n",
    "            if \"open firefox\" in recognized_text.lower():\n",
    "                browser = webdriver.Firefox()\n",
    "                browser.get('http://selenium.dev/')\n",
    "                print(\"Firefox opened successfully!\")\n",
    "\n",
    "                engine.say(\"Firefox opened successfully!\")\n",
    "                engine.runAndWait()\n",
    "            else:\n",
    "                \n",
    "                engine.say(\"Sorry, I didn't understand the command.\")\n",
    "                engine.runAndWait()\n",
    "\n",
    "        except sr.UnknownValueError:\n",
    "            print(\"Speech Recognition could not understand audio.\")\n",
    "        except sr.RequestError as e:\n",
    "            print(\"Error occurred in connecting to the API. Check your internet connection. Error: \", e)\n",
    "\n",
    "if __name__ == \"__main__\":\n",
    "    recognize_and_open_firefox()\n"
   ]
  },
  {
   "cell_type": "code",
   "execution_count": 1,
   "id": "575ad873",
   "metadata": {},
   "outputs": [
    {
     "name": "stdout",
     "output_type": "stream",
     "text": [
      "Please start speaking.\n",
      "Recording finished. Recognizing...\n",
      "You: open browser\n",
      "Error occurred in opening the website or browser. Make sure the input is correct. Error:  Message: Reached error page: about:neterror?e=dnsNotFound&u=http%3A//browser/&c=UTF-8&d=We%20can%E2%80%99t%20connect%20to%20the%20server%20at%20browser.\n",
      "Stacktrace:\n",
      "RemoteError@chrome://remote/content/shared/RemoteError.sys.mjs:8:8\n",
      "WebDriverError@chrome://remote/content/shared/webdriver/Errors.sys.mjs:187:5\n",
      "UnknownError@chrome://remote/content/shared/webdriver/Errors.sys.mjs:736:5\n",
      "checkReadyState@chrome://remote/content/marionette/navigate.sys.mjs:61:24\n",
      "onNavigation@chrome://remote/content/marionette/navigate.sys.mjs:329:39\n",
      "emit@resource://gre/modules/EventEmitter.sys.mjs:154:20\n",
      "receiveMessage@chrome://remote/content/marionette/actors/MarionetteEventsParent.sys.mjs:35:25\n",
      "\n"
     ]
    }
   ],
   "source": [
    "import speech_recognition as sr\n",
    "import pyttsx3\n",
    "import re\n",
    "from selenium import webdriver\n",
    "from selenium.common.exceptions import WebDriverException\n",
    "\n",
    "def recognize_and_open_website():\n",
    "    r = sr.Recognizer()\n",
    "\n",
    "    engine = pyttsx3.init()\n",
    "\n",
    "    with sr.Microphone() as source:\n",
    "        print(\"Please start speaking.\")\n",
    "        audio_text = r.listen(source)\n",
    "        print(\"Recording finished. Recognizing...\")\n",
    "\n",
    "        try:\n",
    "            recognized_text = r.recognize_google(audio_text)\n",
    "            print(\"You: \" + recognized_text)\n",
    "\n",
    "            if \"firefox\" in recognized_text.lower():\n",
    "                browser = webdriver.Firefox()\n",
    "                engine.say(\"Opened Firefox successfully!\")\n",
    "                engine.runAndWait()\n",
    "\n",
    "                with sr.Microphone() as source:\n",
    "                    print(\"Please say the website you want to visit.\")\n",
    "                    audio_text = r.listen(source)\n",
    "                    print(\"Recording finished. Recognizing...\")\n",
    "\n",
    "                    recognized_text = r.recognize_google(audio_text)\n",
    "                    print(\"You: \" + recognized_text)\n",
    "\n",
    "                    website_name = recognized_text.lower()\n",
    "\n",
    "                    url = f\"https://{website_name}\"\n",
    "                    browser.get(url)\n",
    "                    engine.say(f\"Opened {website_name} successfully!\")\n",
    "                    engine.runAndWait()\n",
    "\n",
    "            else:\n",
    "\n",
    "                website_name_match = re.search(r'open\\s+(.+)', recognized_text, re.IGNORECASE)\n",
    "                if website_name_match:\n",
    "                    website_name = website_name_match.group(1).lower()\n",
    "\n",
    "                    url = f\"https://{website_name}\"\n",
    "                    browser = webdriver.Firefox()\n",
    "                    browser.get(url)\n",
    "\n",
    "                    engine.say(f\"Opened {website_name} successfully!\")\n",
    "                    engine.runAndWait()\n",
    "                else:\n",
    "                    print(\"Could not understand the website name.\")\n",
    "\n",
    "        except sr.UnknownValueError:\n",
    "            print(\"Speech Recognition could not understand audio.\")\n",
    "        except sr.RequestError as e:\n",
    "            print(\"Error occurred in connecting to the API. Check your internet connection. Error: \", e)\n",
    "        except WebDriverException as e:\n",
    "            print(\"Error occurred in opening the website or browser. Make sure the input is correct. Error: \", e)\n",
    "\n",
    "if __name__ == \"__main__\":\n",
    "    recognize_and_open_website()"
   ]
  },
  {
   "cell_type": "code",
   "execution_count": null,
   "id": "bc08162d",
   "metadata": {},
   "outputs": [],
   "source": []
  }
 ],
 "metadata": {
  "kernelspec": {
   "display_name": "Python 3 (ipykernel)",
   "language": "python",
   "name": "python3"
  },
  "language_info": {
   "codemirror_mode": {
    "name": "ipython",
    "version": 3
   },
   "file_extension": ".py",
   "mimetype": "text/x-python",
   "name": "python",
   "nbconvert_exporter": "python",
   "pygments_lexer": "ipython3",
   "version": "3.9.12"
  }
 },
 "nbformat": 4,
 "nbformat_minor": 5
}
