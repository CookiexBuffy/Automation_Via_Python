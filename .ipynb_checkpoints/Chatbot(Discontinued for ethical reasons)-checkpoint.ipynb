{
 "cells": [
  {
   "cell_type": "code",
   "execution_count": 2,
   "id": "ed3cd08b",
   "metadata": {},
   "outputs": [
    {
     "name": "stdout",
     "output_type": "stream",
     "text": [
      "No female voice found. Using default voice.\n"
     ]
    },
    {
     "ename": "NameError",
     "evalue": "name 'sr' is not defined",
     "output_type": "error",
     "traceback": [
      "\u001b[1;31m---------------------------------------------------------------------------\u001b[0m",
      "\u001b[1;31mNameError\u001b[0m                                 Traceback (most recent call last)",
      "Input \u001b[1;32mIn [2]\u001b[0m, in \u001b[0;36m<cell line: 58>\u001b[1;34m()\u001b[0m\n\u001b[0;32m     55\u001b[0m                 \u001b[38;5;28mprint\u001b[39m(\u001b[38;5;124m\"\u001b[39m\u001b[38;5;124mError occurred in connecting to the API. Check your internet connection. Error: \u001b[39m\u001b[38;5;124m\"\u001b[39m, e)\n\u001b[0;32m     58\u001b[0m \u001b[38;5;28;01mif\u001b[39;00m \u001b[38;5;18m__name__\u001b[39m \u001b[38;5;241m==\u001b[39m \u001b[38;5;124m\"\u001b[39m\u001b[38;5;124m__main__\u001b[39m\u001b[38;5;124m\"\u001b[39m:\n\u001b[1;32m---> 59\u001b[0m     \u001b[43mrecognize_and_chat\u001b[49m\u001b[43m(\u001b[49m\u001b[43m)\u001b[49m\n",
      "Input \u001b[1;32mIn [2]\u001b[0m, in \u001b[0;36mrecognize_and_chat\u001b[1;34m()\u001b[0m\n\u001b[0;32m     24\u001b[0m \u001b[38;5;28;01mdef\u001b[39;00m \u001b[38;5;21mrecognize_and_chat\u001b[39m():\n\u001b[0;32m     25\u001b[0m     \u001b[38;5;28;01mglobal\u001b[39;00m assistant_response_text\n\u001b[1;32m---> 27\u001b[0m     r \u001b[38;5;241m=\u001b[39m \u001b[43msr\u001b[49m\u001b[38;5;241m.\u001b[39mRecognizer()\n\u001b[0;32m     29\u001b[0m     \u001b[38;5;28;01mwhile\u001b[39;00m \u001b[38;5;28;01mTrue\u001b[39;00m:\n\u001b[0;32m     30\u001b[0m         \u001b[38;5;28;01mwith\u001b[39;00m sr\u001b[38;5;241m.\u001b[39mMicrophone() \u001b[38;5;28;01mas\u001b[39;00m source:\n",
      "\u001b[1;31mNameError\u001b[0m: name 'sr' is not defined"
     ]
    }
   ],
   "source": [
    "import pyttsx3\n",
    "\n",
    "engine = pyttsx3.init()\n",
    "\n",
    "# Find a female voice if available\n",
    "female_voice = None\n",
    "voices = engine.getProperty('voices')\n",
    "for voice in voices:\n",
    "    if \"female\" in voice.name.lower():\n",
    "        female_voice = voice\n",
    "        break\n",
    "\n",
    "# Set the selected voice if available\n",
    "if female_voice:\n",
    "    engine.setProperty('voice', female_voice.id)\n",
    "else:\n",
    "    print(\"No female voice found. Using default voice.\")\n",
    "\n",
    "# Set other properties\n",
    "engine.setProperty(\"rate\", 125)\n",
    "engine.setProperty(\"runAndWaitTimeout\", 10)\n",
    "\n",
    "# Rest of your code\n",
    "def recognize_and_chat():\n",
    "    global assistant_response_text\n",
    "\n",
    "    r = sr.Recognizer()\n",
    "\n",
    "    while True:\n",
    "        with sr.Microphone() as source:\n",
    "            print(\"Please start speaking.\")\n",
    "            audio_text = r.listen(source)\n",
    "            print(\"Recording finished. Recognizing...\")\n",
    "\n",
    "            try:\n",
    "                recognized_text = r.recognize_google(audio_text)\n",
    "                print(\"You: \" + recognized_text)\n",
    "\n",
    "                if \"stop\" in recognized_text.lower():\n",
    "                    print(\"Assistant: Stopping the conversation.\")\n",
    "                    engine.say(\"Stopping the conversation.\")\n",
    "                    engine.runAndWait()\n",
    "                    break  # Exit the loop and stop the conversation\n",
    "\n",
    "                response = chat_with_gpt(recognized_text)\n",
    "\n",
    "                assistant_response_text = response\n",
    "\n",
    "                engine.say(response)\n",
    "                engine.runAndWait()\n",
    "\n",
    "            except sr.UnknownValueError:\n",
    "                print(\"Speech Recognition could not understand audio.\")\n",
    "            except sr.RequestError as e:\n",
    "                print(\"Error occurred in connecting to the API. Check your internet connection. Error: \", e)\n",
    "\n",
    "\n",
    "if __name__ == \"__main__\":\n",
    "    recognize_and_chat()\n"
   ]
  },
  {
   "cell_type": "code",
   "execution_count": null,
   "id": "dcb513b5",
   "metadata": {},
   "outputs": [],
   "source": []
  }
 ],
 "metadata": {
  "kernelspec": {
   "display_name": "Python 3 (ipykernel)",
   "language": "python",
   "name": "python3"
  },
  "language_info": {
   "codemirror_mode": {
    "name": "ipython",
    "version": 3
   },
   "file_extension": ".py",
   "mimetype": "text/x-python",
   "name": "python",
   "nbconvert_exporter": "python",
   "pygments_lexer": "ipython3",
   "version": "3.9.12"
  }
 },
 "nbformat": 4,
 "nbformat_minor": 5
}
