{
 "cells": [
  {
   "cell_type": "code",
   "execution_count": 3,
   "id": "a8afb4ac",
   "metadata": {},
   "outputs": [],
   "source": [
    "from selenium import webdriver\n",
    "\n",
    "browser = webdriver.Firefox()\n",
    "browser.get('http://selenium.dev/')"
   ]
  },
  {
   "cell_type": "code",
   "execution_count": 4,
   "id": "7dd03a6b",
   "metadata": {},
   "outputs": [
    {
     "name": "stdout",
     "output_type": "stream",
     "text": [
      "Please start speaking.\n",
      "Recording finished. Recognizing...\n",
      "You: open Firefox open Firefox\n",
      "Firefox opened successfully!\n"
     ]
    }
   ],
   "source": [
    "import speech_recognition as sr\n",
    "import pyttsx3\n",
    "from selenium import webdriver\n",
    "\n",
    "engine = pyttsx3.init()\n",
    "\n",
    "def recognize_and_open_firefox():\n",
    "    r = sr.Recognizer()\n",
    "\n",
    "    with sr.Microphone() as source:\n",
    "        print(\"Please start speaking.\")\n",
    "        audio_text = r.listen(source)\n",
    "        print(\"Recording finished. Recognizing...\")\n",
    "\n",
    "        try:\n",
    "\n",
    "            recognized_text = r.recognize_google(audio_text)\n",
    "            print(\"You: \" + recognized_text)\n",
    "\n",
    "            if \"open firefox\" in recognized_text.lower():\n",
    "                browser = webdriver.Firefox()\n",
    "                browser.get('http://selenium.dev/')\n",
    "                print(\"Firefox opened successfully!\")\n",
    "\n",
    "                engine.say(\"Firefox opened successfully!\")\n",
    "                engine.runAndWait()\n",
    "            else:\n",
    "                \n",
    "                engine.say(\"Sorry, I didn't understand the command.\")\n",
    "                engine.runAndWait()\n",
    "\n",
    "        except sr.UnknownValueError:\n",
    "            print(\"Speech Recognition could not understand audio.\")\n",
    "        except sr.RequestError as e:\n",
    "            print(\"Error occurred in connecting to the API. Check your internet connection. Error: \", e)\n",
    "\n",
    "if __name__ == \"__main__\":\n",
    "    recognize_and_open_firefox()\n"
   ]
  },
  {
   "cell_type": "code",
   "execution_count": 13,
   "id": "c916f16f",
   "metadata": {},
   "outputs": [
    {
     "name": "stdout",
     "output_type": "stream",
     "text": [
      "Please start speaking.\n",
      "Recording finished. Recognizing...\n",
      "You: open Firefox\n",
      "Please say the website you want to visit.\n",
      "Recording finished. Recognizing...\n",
      "You: instagram.com\n"
     ]
    }
   ],
   "source": [
    "import speech_recognition as sr\n",
    "import pyttsx3\n",
    "from selenium import webdriver\n",
    "from selenium.common.exceptions import WebDriverException\n",
    "\n",
    "# ... (previous code remains the same)\n",
    "\n",
    "def recognize_and_open_website():\n",
    "    # Initialize the speech recognition object\n",
    "    r = sr.Recognizer()\n",
    "\n",
    "    with sr.Microphone() as source:\n",
    "        print(\"Please start speaking.\")\n",
    "        audio_text = r.listen(source)\n",
    "        print(\"Recording finished. Recognizing...\")\n",
    "\n",
    "        try:\n",
    "            # Convert speech to text\n",
    "            recognized_text = r.recognize_google(audio_text)\n",
    "            print(\"You: \" + recognized_text)\n",
    "\n",
    "            # Check if \"firefox\" is in the recognized text\n",
    "            if \"firefox\" in recognized_text.lower():\n",
    "                # Open Firefox browser\n",
    "                browser = webdriver.Firefox()\n",
    "                engine.say(\"Opened Firefox successfully!\")\n",
    "                engine.runAndWait()\n",
    "\n",
    "                # Ask for the website to visit\n",
    "                with sr.Microphone() as source:\n",
    "                    print(\"Please say the website you want to visit.\")\n",
    "                    audio_text = r.listen(source)\n",
    "                    print(\"Recording finished. Recognizing...\")\n",
    "\n",
    "                    # Convert speech to text\n",
    "                    recognized_text = r.recognize_google(audio_text)\n",
    "                    print(\"You: \" + recognized_text)\n",
    "\n",
    "                    # Extract the website name from the recognized text\n",
    "                    website_name = recognized_text.lower()\n",
    "\n",
    "                    # Open the specified website using Selenium\n",
    "                    url = f\"http://{website_name}\"\n",
    "                    browser.get(url)\n",
    "                    engine.say(f\"Opened {website_name} successfully!\")\n",
    "                    engine.runAndWait()\n",
    "\n",
    "            else:\n",
    "                # Extract the website name from the recognized text\n",
    "                website_name = recognized_text.split(\"open \", 1)[-1]\n",
    "\n",
    "                # Open the specified website using Selenium\n",
    "                url = f\"http://{website_name.lower()}\"\n",
    "                browser = webdriver.Firefox()\n",
    "                browser.get(url)\n",
    "\n",
    "                engine.say(f\"Opened {website_name} successfully!\")\n",
    "                engine.runAndWait()\n",
    "\n",
    "        except sr.UnknownValueError:\n",
    "            print(\"Speech Recognition could not understand audio.\")\n",
    "        except sr.RequestError as e:\n",
    "            print(\"Error occurred in connecting to the API. Check your internet connection. Error: \", e)\n",
    "        except WebDriverException as e:\n",
    "            print(\"Error occurred in opening the website or browser. Make sure the input is correct. Error: \", e)\n",
    "\n",
    "if __name__ == \"__main__\":\n",
    "    recognize_and_open_website()"
   ]
  },
  {
   "cell_type": "code",
   "execution_count": null,
   "id": "48cea3aa",
   "metadata": {},
   "outputs": [],
   "source": []
  }
 ],
 "metadata": {
  "kernelspec": {
   "display_name": "Python 3 (ipykernel)",
   "language": "python",
   "name": "python3"
  },
  "language_info": {
   "codemirror_mode": {
    "name": "ipython",
    "version": 3
   },
   "file_extension": ".py",
   "mimetype": "text/x-python",
   "name": "python",
   "nbconvert_exporter": "python",
   "pygments_lexer": "ipython3",
   "version": "3.9.12"
  }
 },
 "nbformat": 4,
 "nbformat_minor": 5
}
